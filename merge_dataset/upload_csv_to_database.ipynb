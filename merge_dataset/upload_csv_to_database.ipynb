{
 "cells": [
  {
   "cell_type": "code",
   "id": "initial_id",
   "metadata": {
    "collapsed": true,
    "ExecuteTime": {
     "end_time": "2024-12-27T06:30:28.621388Z",
     "start_time": "2024-12-27T06:30:27.754394Z"
    }
   },
   "source": [
    "import pandas as pd\n",
    "import pymongo\n",
    "import sshtunnel\n",
    "import os\n",
    "import numpy as np"
   ],
   "outputs": [],
   "execution_count": 1
  },
  {
   "metadata": {
    "ExecuteTime": {
     "end_time": "2024-12-27T06:30:28.636525Z",
     "start_time": "2024-12-27T06:30:28.622392Z"
    }
   },
   "cell_type": "code",
   "source": [
    "server_ip = open('server.ip', 'r').readline().strip()\n",
    "database = 'Windows-DESKTOP-3HVBJEA'\n",
    "collection_name = 'HARVEST_DATA'\n"
   ],
   "id": "b13dfeff62294e9d",
   "outputs": [],
   "execution_count": 2
  },
  {
   "metadata": {
    "ExecuteTime": {
     "end_time": "2024-12-27T06:30:28.652089Z",
     "start_time": "2024-12-27T06:30:28.637533Z"
    }
   },
   "cell_type": "code",
   "source": [
    "def upload_csv_to_database(records):\n",
    "    with sshtunnel.open_tunnel((server_ip, 2222),\n",
    "                               ssh_username='andrew',\n",
    "                               ssh_password='a',\n",
    "                               remote_bind_address=('127.0.0.1', 27017),\n",
    "                               local_bind_address=('127.0.0.1', 37017)\n",
    "                               ) as tunnel:\n",
    "        # Construct MongoDB URI with the local bind address port\n",
    "        mongo_uri = f\"mongodb://localhost:{37017}\"\n",
    "\n",
    "        # connect to mongo uri\n",
    "        client = pymongo.MongoClient(mongo_uri)\n",
    "        # get the database\n",
    "        db = client[database]\n",
    "        # get the collection\n",
    "        collection = db[collection_name]\n",
    "        # insert the data\n",
    "        collection.insert_many(records)\n",
    "        # Close the connection\n",
    "        client.close()\n"
   ],
   "id": "c44882a33fb1fbe1",
   "outputs": [],
   "execution_count": 3
  },
  {
   "metadata": {
    "ExecuteTime": {
     "end_time": "2024-12-27T06:30:30.497717Z",
     "start_time": "2024-12-27T06:30:30.488208Z"
    }
   },
   "cell_type": "code",
   "source": [
    "# get all files in the directory\n",
    "directory = 'fruitSM2'\n",
    "files = os.listdir(directory)\n",
    "files.sort()\n",
    "files"
   ],
   "id": "332c3163d9d719d4",
   "outputs": [
    {
     "data": {
      "text/plain": [
       "['24.06.24.csv',\n",
       " '24.07.01.csv',\n",
       " '24.07.10.csv',\n",
       " '24.07.15.csv',\n",
       " '24.07.22.csv',\n",
       " '24.07.29.csv',\n",
       " '24.08.05.csv',\n",
       " '24.08.12.csv',\n",
       " '24.08.19.csv',\n",
       " '24.08.26.csv',\n",
       " '24.08.30.csv',\n",
       " '24.09.02.csv',\n",
       " '24.09.06.csv',\n",
       " '24.09.09.csv',\n",
       " '24.09.13.csv',\n",
       " '24.09.19.csv',\n",
       " '24.09.23.csv',\n",
       " '24.09.27.csv',\n",
       " '24.10.04.csv',\n",
       " '24.10.07.csv',\n",
       " '24.10.11.csv',\n",
       " '24.10.14.csv',\n",
       " '24.10.18.csv',\n",
       " '24.10.28.csv',\n",
       " '24.11.01.csv',\n",
       " '24.11.04.csv',\n",
       " '24.11.08.csv',\n",
       " '24.11.11.csv',\n",
       " '24.11.15.csv',\n",
       " '24.11.19.csv',\n",
       " '24.11.22.csv',\n",
       " '24.11.25.csv',\n",
       " '24.11.29.csv',\n",
       " '24.12.02.csv',\n",
       " '24.12.06.csv']"
      ]
     },
     "execution_count": 4,
     "metadata": {},
     "output_type": "execute_result"
    }
   ],
   "execution_count": 4
  },
  {
   "metadata": {
    "ExecuteTime": {
     "end_time": "2024-12-26T03:22:33.795859Z",
     "start_time": "2024-12-26T03:22:33.788292Z"
    }
   },
   "cell_type": "code",
   "source": [
    "# harvest_format = { \n",
    "#     \"Date\": \"\", # Date format aka file name extracted\n",
    "#     \"Product Name\": \"\", # '죽향저장', '죽향실온', '죽향(실온)', '메리퀸', '죽향(저장)'\n",
    "#     \"Section\": \"\", \n",
    "#     \"Plant\": \"\",\n",
    "#     \"Fruit vertical length\": \"\",\n",
    "#     \"Fruit horizontal length\": \"\",\n",
    "#     \"Fruit weight\": \"\",\n",
    "#     \"Hardness\": \"\",\n",
    "#     \"Sweetness\": \"\",\n",
    "#     \"Acidity\": \"\",\n",
    "#     \"Color L\": \"\",\n",
    "#     \"Color a\": \"\",\n",
    "#     \"Color b\": \"\",\n",
    "#     \"Remarks\": \"\",\n",
    "# }   "
   ],
   "id": "7812bcf1f50c4141",
   "outputs": [],
   "execution_count": 26
  },
  {
   "metadata": {
    "ExecuteTime": {
     "end_time": "2024-12-27T06:30:41.968804Z",
     "start_time": "2024-12-27T06:30:41.908121Z"
    }
   },
   "cell_type": "code",
   "source": [
    "# # list all name of products name\n",
    "unique_products = []\n",
    "for file in files:\n",
    "    df = pd.read_csv(f'{directory}/{file}', encoding='utf-8')\n",
    "    products = df['Product Name'].unique()\n",
    "    for product in products:\n",
    "        if product not in unique_products:\n",
    "            print(file)\n",
    "            print(product)\n",
    "            unique_products.append(product)\n",
    "\n",
    "unique_products = list(set(unique_products))\n",
    "unique_products"
   ],
   "id": "94394c6d8ca43826",
   "outputs": [
    {
     "name": "stdout",
     "output_type": "stream",
     "text": [
      "24.06.24.csv\n",
      "메리퀸\n",
      "24.06.24.csv\n",
      "죽향실온\n",
      "24.07.01.csv\n",
      "죽향저장\n"
     ]
    },
    {
     "data": {
      "text/plain": [
       "['죽향저장', '죽향실온', '메리퀸']"
      ]
     },
     "execution_count": 5,
     "metadata": {},
     "output_type": "execute_result"
    }
   ],
   "execution_count": 5
  },
  {
   "metadata": {
    "ExecuteTime": {
     "end_time": "2024-12-27T06:31:28.191662Z",
     "start_time": "2024-12-27T06:30:52.985125Z"
    }
   },
   "cell_type": "code",
   "source": [
    "# dump all data into the database\n",
    "for file in files:  # file format: 21.07.01.csv\n",
    "    df = pd.read_csv(f'{directory}/{file}', encoding='utf-8')\n",
    "    datetime = file[:-4]\n",
    "    # convert to datetime format to store in the database\n",
    "    datetime = f'20{datetime[:2]}-{datetime[3:5]}-{datetime[6:]}'\n",
    "    # create new dataframe with new column date from df\n",
    "    df['Date'] = datetime\n",
    "    # move Date column to the first column\n",
    "    cols = df.columns.tolist()\n",
    "    cols = cols[-1:] + cols[:-1]\n",
    "    df = df[cols]\n",
    "    # convert dataframe to dictionary\n",
    "    records = df.to_dict(orient='records')\n",
    "    # upload to database\n",
    "    upload_csv_to_database(records)\n",
    "    print(f'{file} uploaded to database')\n"
   ],
   "id": "1900e4cecb0c42d8",
   "outputs": [
    {
     "name": "stdout",
     "output_type": "stream",
     "text": [
      "24.06.24.csv uploaded to database\n",
      "24.07.01.csv uploaded to database\n",
      "24.07.10.csv uploaded to database\n",
      "24.07.15.csv uploaded to database\n",
      "24.07.22.csv uploaded to database\n",
      "24.07.29.csv uploaded to database\n",
      "24.08.05.csv uploaded to database\n",
      "24.08.12.csv uploaded to database\n"
     ]
    },
    {
     "name": "stderr",
     "output_type": "stream",
     "text": [
      "2024-12-27 15:31:01,902| ERROR   | Could not establish connection from local ('127.0.0.1', 37017) to remote ('127.0.0.1', 27017) side of the tunnel: \n"
     ]
    },
    {
     "name": "stdout",
     "output_type": "stream",
     "text": [
      "24.08.19.csv uploaded to database\n",
      "24.08.26.csv uploaded to database\n",
      "24.08.30.csv uploaded to database\n",
      "24.09.02.csv uploaded to database\n",
      "24.09.06.csv uploaded to database\n",
      "24.09.09.csv uploaded to database\n",
      "24.09.13.csv uploaded to database\n",
      "24.09.19.csv uploaded to database\n",
      "24.09.23.csv uploaded to database\n",
      "24.09.27.csv uploaded to database\n",
      "24.10.04.csv uploaded to database\n",
      "24.10.07.csv uploaded to database\n",
      "24.10.11.csv uploaded to database\n",
      "24.10.14.csv uploaded to database\n",
      "24.10.18.csv uploaded to database\n",
      "24.10.28.csv uploaded to database\n",
      "24.11.01.csv uploaded to database\n",
      "24.11.04.csv uploaded to database\n",
      "24.11.08.csv uploaded to database\n",
      "24.11.11.csv uploaded to database\n",
      "24.11.15.csv uploaded to database\n",
      "24.11.19.csv uploaded to database\n",
      "24.11.22.csv uploaded to database\n",
      "24.11.25.csv uploaded to database\n",
      "24.11.29.csv uploaded to database\n",
      "24.12.02.csv uploaded to database\n",
      "24.12.06.csv uploaded to database\n"
     ]
    }
   ],
   "execution_count": 6
  },
  {
   "metadata": {},
   "cell_type": "code",
   "outputs": [],
   "execution_count": null,
   "source": "",
   "id": "8e019959beda6452"
  }
 ],
 "metadata": {
  "kernelspec": {
   "display_name": "Python 3",
   "language": "python",
   "name": "python3"
  },
  "language_info": {
   "codemirror_mode": {
    "name": "ipython",
    "version": 2
   },
   "file_extension": ".py",
   "mimetype": "text/x-python",
   "name": "python",
   "nbconvert_exporter": "python",
   "pygments_lexer": "ipython2",
   "version": "2.7.6"
  }
 },
 "nbformat": 4,
 "nbformat_minor": 5
}
