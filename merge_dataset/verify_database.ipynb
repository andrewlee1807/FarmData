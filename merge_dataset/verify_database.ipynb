{
 "cells": [
  {
   "cell_type": "code",
   "id": "initial_id",
   "metadata": {
    "collapsed": true,
    "ExecuteTime": {
     "end_time": "2024-12-26T08:05:00.790030Z",
     "start_time": "2024-12-26T08:05:00.784Z"
    }
   },
   "source": [
    "import pandas as pd\n",
    "import numpy as np"
   ],
   "outputs": [],
   "execution_count": 7
  },
  {
   "metadata": {
    "ExecuteTime": {
     "end_time": "2024-12-26T07:52:21.207349Z",
     "start_time": "2024-12-26T07:52:21.177363Z"
    }
   },
   "cell_type": "code",
   "source": [
    "file = 'InAdayCOM5.csv'\n",
    "df = pd.read_csv(file)\n",
    "df"
   ],
   "id": "c1e02a0f3625c79f",
   "outputs": [
    {
     "data": {
      "text/plain": [
       "                          _id   EC   Humidity           Sun   pH   \n",
       "0    66783919c8c016fe4feeee72  0.0  71.386230  15632.179688  0.0  \\\n",
       "1    66783a45c8c016fe4feeee75  0.0  70.620819  15632.179688  0.0   \n",
       "2    66783b73c8c016fe4feeee78  0.0  71.324989  15632.179688  0.0   \n",
       "3    66783c9dc8c016fe4feeee7b  0.0  71.625244  15632.179688  0.0   \n",
       "4    66783dcac8c016fe4feeee7e  0.0  80.310432  15632.179688  0.0   \n",
       "..                        ...  ...        ...           ...  ...   \n",
       "279  667984c3c8c016fe4feef1b1  0.0  85.585983  15632.179688  0.0   \n",
       "280  667985efc8c016fe4feef1b4  0.0  88.113838  15632.179688  0.0   \n",
       "281  6679871bc8c016fe4feef1b7  0.0  79.249664  15632.179688  0.0   \n",
       "282  66798847c8c016fe4feef1ba  0.0  84.386391  15632.179688  0.0   \n",
       "283  66798973c8c016fe4feef1bd  0.0  71.600189  15632.179688  0.0   \n",
       "\n",
       "     Solid_Temperature  Temperature         CO2  Solid_Moisture   \n",
       "0                    0    16.916164  883.007812        0.000000  \\\n",
       "1                    0    16.134983  891.064453        0.000000   \n",
       "2                    0    15.372114         NaN      889.453125   \n",
       "3                    0    14.858770  891.064453        0.000000   \n",
       "4                    0    14.681299  889.453125        0.000000   \n",
       "..                 ...          ...         ...             ...   \n",
       "279                  0    17.650034  928.125000        0.000000   \n",
       "280                  0    17.868353  932.958984        0.000000   \n",
       "281                  0    17.531694  932.958984        0.000000   \n",
       "282                  0    17.618313  941.015625        0.000000   \n",
       "283                  0    17.238468  941.015625        0.000000   \n",
       "\n",
       "                     Datetime  \n",
       "0    2024-06-24T00:02:49.000Z  \n",
       "1    2024-06-24T00:07:49.000Z  \n",
       "2    2024-06-24T00:12:51.000Z  \n",
       "3    2024-06-24T00:17:49.000Z  \n",
       "4    2024-06-24T00:22:50.000Z  \n",
       "..                        ...  \n",
       "279  2024-06-24T23:37:54.000Z  \n",
       "280  2024-06-24T23:42:54.000Z  \n",
       "281  2024-06-24T23:47:54.000Z  \n",
       "282  2024-06-24T23:52:54.000Z  \n",
       "283  2024-06-24T23:57:54.000Z  \n",
       "\n",
       "[284 rows x 10 columns]"
      ],
      "text/html": [
       "<div>\n",
       "<style scoped>\n",
       "    .dataframe tbody tr th:only-of-type {\n",
       "        vertical-align: middle;\n",
       "    }\n",
       "\n",
       "    .dataframe tbody tr th {\n",
       "        vertical-align: top;\n",
       "    }\n",
       "\n",
       "    .dataframe thead th {\n",
       "        text-align: right;\n",
       "    }\n",
       "</style>\n",
       "<table border=\"1\" class=\"dataframe\">\n",
       "  <thead>\n",
       "    <tr style=\"text-align: right;\">\n",
       "      <th></th>\n",
       "      <th>_id</th>\n",
       "      <th>EC</th>\n",
       "      <th>Humidity</th>\n",
       "      <th>Sun</th>\n",
       "      <th>pH</th>\n",
       "      <th>Solid_Temperature</th>\n",
       "      <th>Temperature</th>\n",
       "      <th>CO2</th>\n",
       "      <th>Solid_Moisture</th>\n",
       "      <th>Datetime</th>\n",
       "    </tr>\n",
       "  </thead>\n",
       "  <tbody>\n",
       "    <tr>\n",
       "      <th>0</th>\n",
       "      <td>66783919c8c016fe4feeee72</td>\n",
       "      <td>0.0</td>\n",
       "      <td>71.386230</td>\n",
       "      <td>15632.179688</td>\n",
       "      <td>0.0</td>\n",
       "      <td>0</td>\n",
       "      <td>16.916164</td>\n",
       "      <td>883.007812</td>\n",
       "      <td>0.000000</td>\n",
       "      <td>2024-06-24T00:02:49.000Z</td>\n",
       "    </tr>\n",
       "    <tr>\n",
       "      <th>1</th>\n",
       "      <td>66783a45c8c016fe4feeee75</td>\n",
       "      <td>0.0</td>\n",
       "      <td>70.620819</td>\n",
       "      <td>15632.179688</td>\n",
       "      <td>0.0</td>\n",
       "      <td>0</td>\n",
       "      <td>16.134983</td>\n",
       "      <td>891.064453</td>\n",
       "      <td>0.000000</td>\n",
       "      <td>2024-06-24T00:07:49.000Z</td>\n",
       "    </tr>\n",
       "    <tr>\n",
       "      <th>2</th>\n",
       "      <td>66783b73c8c016fe4feeee78</td>\n",
       "      <td>0.0</td>\n",
       "      <td>71.324989</td>\n",
       "      <td>15632.179688</td>\n",
       "      <td>0.0</td>\n",
       "      <td>0</td>\n",
       "      <td>15.372114</td>\n",
       "      <td>NaN</td>\n",
       "      <td>889.453125</td>\n",
       "      <td>2024-06-24T00:12:51.000Z</td>\n",
       "    </tr>\n",
       "    <tr>\n",
       "      <th>3</th>\n",
       "      <td>66783c9dc8c016fe4feeee7b</td>\n",
       "      <td>0.0</td>\n",
       "      <td>71.625244</td>\n",
       "      <td>15632.179688</td>\n",
       "      <td>0.0</td>\n",
       "      <td>0</td>\n",
       "      <td>14.858770</td>\n",
       "      <td>891.064453</td>\n",
       "      <td>0.000000</td>\n",
       "      <td>2024-06-24T00:17:49.000Z</td>\n",
       "    </tr>\n",
       "    <tr>\n",
       "      <th>4</th>\n",
       "      <td>66783dcac8c016fe4feeee7e</td>\n",
       "      <td>0.0</td>\n",
       "      <td>80.310432</td>\n",
       "      <td>15632.179688</td>\n",
       "      <td>0.0</td>\n",
       "      <td>0</td>\n",
       "      <td>14.681299</td>\n",
       "      <td>889.453125</td>\n",
       "      <td>0.000000</td>\n",
       "      <td>2024-06-24T00:22:50.000Z</td>\n",
       "    </tr>\n",
       "    <tr>\n",
       "      <th>...</th>\n",
       "      <td>...</td>\n",
       "      <td>...</td>\n",
       "      <td>...</td>\n",
       "      <td>...</td>\n",
       "      <td>...</td>\n",
       "      <td>...</td>\n",
       "      <td>...</td>\n",
       "      <td>...</td>\n",
       "      <td>...</td>\n",
       "      <td>...</td>\n",
       "    </tr>\n",
       "    <tr>\n",
       "      <th>279</th>\n",
       "      <td>667984c3c8c016fe4feef1b1</td>\n",
       "      <td>0.0</td>\n",
       "      <td>85.585983</td>\n",
       "      <td>15632.179688</td>\n",
       "      <td>0.0</td>\n",
       "      <td>0</td>\n",
       "      <td>17.650034</td>\n",
       "      <td>928.125000</td>\n",
       "      <td>0.000000</td>\n",
       "      <td>2024-06-24T23:37:54.000Z</td>\n",
       "    </tr>\n",
       "    <tr>\n",
       "      <th>280</th>\n",
       "      <td>667985efc8c016fe4feef1b4</td>\n",
       "      <td>0.0</td>\n",
       "      <td>88.113838</td>\n",
       "      <td>15632.179688</td>\n",
       "      <td>0.0</td>\n",
       "      <td>0</td>\n",
       "      <td>17.868353</td>\n",
       "      <td>932.958984</td>\n",
       "      <td>0.000000</td>\n",
       "      <td>2024-06-24T23:42:54.000Z</td>\n",
       "    </tr>\n",
       "    <tr>\n",
       "      <th>281</th>\n",
       "      <td>6679871bc8c016fe4feef1b7</td>\n",
       "      <td>0.0</td>\n",
       "      <td>79.249664</td>\n",
       "      <td>15632.179688</td>\n",
       "      <td>0.0</td>\n",
       "      <td>0</td>\n",
       "      <td>17.531694</td>\n",
       "      <td>932.958984</td>\n",
       "      <td>0.000000</td>\n",
       "      <td>2024-06-24T23:47:54.000Z</td>\n",
       "    </tr>\n",
       "    <tr>\n",
       "      <th>282</th>\n",
       "      <td>66798847c8c016fe4feef1ba</td>\n",
       "      <td>0.0</td>\n",
       "      <td>84.386391</td>\n",
       "      <td>15632.179688</td>\n",
       "      <td>0.0</td>\n",
       "      <td>0</td>\n",
       "      <td>17.618313</td>\n",
       "      <td>941.015625</td>\n",
       "      <td>0.000000</td>\n",
       "      <td>2024-06-24T23:52:54.000Z</td>\n",
       "    </tr>\n",
       "    <tr>\n",
       "      <th>283</th>\n",
       "      <td>66798973c8c016fe4feef1bd</td>\n",
       "      <td>0.0</td>\n",
       "      <td>71.600189</td>\n",
       "      <td>15632.179688</td>\n",
       "      <td>0.0</td>\n",
       "      <td>0</td>\n",
       "      <td>17.238468</td>\n",
       "      <td>941.015625</td>\n",
       "      <td>0.000000</td>\n",
       "      <td>2024-06-24T23:57:54.000Z</td>\n",
       "    </tr>\n",
       "  </tbody>\n",
       "</table>\n",
       "<p>284 rows × 10 columns</p>\n",
       "</div>"
      ]
     },
     "execution_count": 2,
     "metadata": {},
     "output_type": "execute_result"
    }
   ],
   "execution_count": 2
  },
  {
   "metadata": {
    "ExecuteTime": {
     "end_time": "2024-12-26T07:52:21.223271Z",
     "start_time": "2024-12-26T07:52:21.208353Z"
    }
   },
   "cell_type": "code",
   "source": "df.columns",
   "id": "784d7a7afc07ea0e",
   "outputs": [
    {
     "data": {
      "text/plain": [
       "Index(['_id', 'EC', 'Humidity', 'Sun', 'pH', 'Solid_Temperature',\n",
       "       'Temperature', 'CO2', 'Solid_Moisture', 'Datetime'],\n",
       "      dtype='object')"
      ]
     },
     "execution_count": 3,
     "metadata": {},
     "output_type": "execute_result"
    }
   ],
   "execution_count": 3
  },
  {
   "metadata": {
    "ExecuteTime": {
     "end_time": "2024-12-26T08:06:35.263328Z",
     "start_time": "2024-12-26T08:06:35.254202Z"
    }
   },
   "cell_type": "code",
   "source": "len(df)",
   "id": "95605d35457b21a3",
   "outputs": [
    {
     "data": {
      "text/plain": [
       "284"
      ]
     },
     "execution_count": 10,
     "metadata": {},
     "output_type": "execute_result"
    }
   ],
   "execution_count": 10
  },
  {
   "metadata": {
    "ExecuteTime": {
     "end_time": "2024-12-26T07:52:21.238884Z",
     "start_time": "2024-12-26T07:52:21.224274Z"
    }
   },
   "cell_type": "code",
   "source": "df.isnull().sum()\n",
   "id": "ad3afd1eb39b8077",
   "outputs": [
    {
     "data": {
      "text/plain": [
       "_id                   0\n",
       "EC                   25\n",
       "Humidity              1\n",
       "Sun                   0\n",
       "pH                    2\n",
       "Solid_Temperature     0\n",
       "Temperature           2\n",
       "CO2                   1\n",
       "Solid_Moisture        2\n",
       "Datetime              0\n",
       "dtype: int64"
      ]
     },
     "execution_count": 4,
     "metadata": {},
     "output_type": "execute_result"
    }
   ],
   "execution_count": 4
  },
  {
   "metadata": {
    "ExecuteTime": {
     "end_time": "2024-12-26T07:52:21.254433Z",
     "start_time": "2024-12-26T07:52:21.240521Z"
    }
   },
   "cell_type": "code",
   "source": [
    "# finding where the data is missing, nan values\n",
    "selected_columns = ['EC', 'Humidity', 'Sun', 'pH', 'Solid_Temperature', 'Temperature', 'CO2', 'Solid_Moisture']\n",
    "df[selected_columns].mean(skipna=True)"
   ],
   "id": "9d626877338dd747",
   "outputs": [
    {
     "data": {
      "text/plain": [
       "EC                       0.000000\n",
       "Humidity                69.105633\n",
       "Sun                  15577.452953\n",
       "pH                       0.000000\n",
       "Solid_Temperature        0.000000\n",
       "Temperature             20.254857\n",
       "CO2                    860.370872\n",
       "Solid_Moisture           3.154089\n",
       "dtype: float64"
      ]
     },
     "execution_count": 5,
     "metadata": {},
     "output_type": "execute_result"
    }
   ],
   "execution_count": 5
  },
  {
   "metadata": {
    "ExecuteTime": {
     "end_time": "2024-12-26T09:13:33.471632Z",
     "start_time": "2024-12-26T09:13:33.449915Z"
    }
   },
   "cell_type": "code",
   "source": [
    "def custom_avg(row):\n",
    "    valid_values = [value for value in row if not pd.isnull(value) and value != 0]\n",
    "    return np.mean(valid_values) if valid_values else None\n",
    "\n",
    "# Apply the custom_avg function to the selected columns\n",
    "average_values_selected = df[selected_columns].apply(custom_avg)\n",
    "# if the average_values_selected is NaN, then set it to 0\n",
    "average_values_selected = average_values_selected.fillna(0)\n",
    "average_values_selected"
   ],
   "id": "51f3c330fe980fba",
   "outputs": [
    {
     "data": {
      "text/plain": [
       "EC                       0.000000\n",
       "Humidity                75.509244\n",
       "Sun                  15577.452953\n",
       "pH                       0.000000\n",
       "Solid_Temperature        0.000000\n",
       "Temperature             20.254857\n",
       "CO2                    860.370872\n",
       "Solid_Moisture         889.453125\n",
       "dtype: float64"
      ]
     },
     "execution_count": 22,
     "metadata": {},
     "output_type": "execute_result"
    }
   ],
   "execution_count": 22
  },
  {
   "metadata": {
    "ExecuteTime": {
     "end_time": "2024-12-26T09:11:22.079389Z",
     "start_time": "2024-12-26T09:11:22.060651Z"
    }
   },
   "cell_type": "code",
   "source": [
    "Humidity = df['Humidity'].tolist()\n",
    "humidity = []\n",
    "for i in range(len(Humidity)):\n",
    "    if not np.isnan(Humidity[i]) and Humidity[i] != 0:\n",
    "        humidity.append(Humidity[i])\n",
    "    else:\n",
    "        print(i)\n",
    "        print(df.iloc[i])\n",
    "np.mean(humidity)"
   ],
   "id": "63ea51e51b97cf4",
   "outputs": [
    {
     "name": "stdout",
     "output_type": "stream",
     "text": [
      "75\n",
      "_id                  66789358c8c016fe4feeef53\n",
      "EC                                        0.0\n",
      "Humidity                                  NaN\n",
      "Sun                                 89.787003\n",
      "pH                                        0.0\n",
      "Solid_Temperature                           0\n",
      "Temperature                         18.331305\n",
      "CO2                                989.355469\n",
      "Solid_Moisture                            0.0\n",
      "Datetime             2024-06-24T06:27:52.000Z\n",
      "Name: 75, dtype: object\n",
      "76\n",
      "_id                  66789484c8c016fe4feeef56\n",
      "EC                                        NaN\n",
      "Humidity                                  0.0\n",
      "Sun                              15632.179688\n",
      "pH                                        0.0\n",
      "Solid_Temperature                           0\n",
      "Temperature                         17.895422\n",
      "CO2                                990.966797\n",
      "Solid_Moisture                            0.0\n",
      "Datetime             2024-06-24T06:32:52.000Z\n",
      "Name: 76, dtype: object\n",
      "77\n",
      "_id                  667895b0c8c016fe4feeef59\n",
      "EC                                        NaN\n",
      "Humidity                                  0.0\n",
      "Sun                              15632.179688\n",
      "pH                                        0.0\n",
      "Solid_Temperature                           0\n",
      "Temperature                         17.891924\n",
      "CO2                                987.744141\n",
      "Solid_Moisture                            0.0\n",
      "Datetime             2024-06-24T06:37:52.000Z\n",
      "Name: 77, dtype: object\n",
      "78\n",
      "_id                  667896dcc8c016fe4feeef5c\n",
      "EC                                        NaN\n",
      "Humidity                                  0.0\n",
      "Sun                              15632.179688\n",
      "pH                                        0.0\n",
      "Solid_Temperature                           0\n",
      "Temperature                         18.216579\n",
      "CO2                                986.132812\n",
      "Solid_Moisture                            0.0\n",
      "Datetime             2024-06-24T06:42:52.000Z\n",
      "Name: 78, dtype: object\n",
      "79\n",
      "_id                  66789808c8c016fe4feeef5f\n",
      "EC                                        NaN\n",
      "Humidity                                  0.0\n",
      "Sun                              15632.179688\n",
      "pH                                        0.0\n",
      "Solid_Temperature                           0\n",
      "Temperature                         18.097748\n",
      "CO2                                999.023438\n",
      "Solid_Moisture                            0.0\n",
      "Datetime             2024-06-24T06:47:52.000Z\n",
      "Name: 79, dtype: object\n",
      "80\n",
      "_id                  66789934c8c016fe4feeef62\n",
      "EC                                        NaN\n",
      "Humidity                                  0.0\n",
      "Sun                              15632.179688\n",
      "pH                                        0.0\n",
      "Solid_Temperature                           0\n",
      "Temperature                         17.925232\n",
      "CO2                                997.412109\n",
      "Solid_Moisture                            0.0\n",
      "Datetime             2024-06-24T06:52:52.000Z\n",
      "Name: 80, dtype: object\n",
      "81\n",
      "_id                  66789a60c8c016fe4feeef65\n",
      "EC                                        NaN\n",
      "Humidity                                  0.0\n",
      "Sun                              15632.179688\n",
      "pH                                        0.0\n",
      "Solid_Temperature                           0\n",
      "Temperature                         18.080454\n",
      "CO2                                999.023438\n",
      "Solid_Moisture                            0.0\n",
      "Datetime             2024-06-24T06:57:52.000Z\n",
      "Name: 81, dtype: object\n",
      "82\n",
      "_id                  66789b8cc8c016fe4feeef68\n",
      "EC                                        NaN\n",
      "Humidity                                  0.0\n",
      "Sun                              15632.179688\n",
      "pH                                        0.0\n",
      "Solid_Temperature                           0\n",
      "Temperature                         18.410101\n",
      "CO2                               1002.246094\n",
      "Solid_Moisture                            0.0\n",
      "Datetime             2024-06-24T07:02:52.000Z\n",
      "Name: 82, dtype: object\n",
      "83\n",
      "_id                  66789cb8c8c016fe4feeef6b\n",
      "EC                                        NaN\n",
      "Humidity                                  0.0\n",
      "Sun                              15632.179688\n",
      "pH                                        0.0\n",
      "Solid_Temperature                           0\n",
      "Temperature                         18.589895\n",
      "CO2                                990.966797\n",
      "Solid_Moisture                            0.0\n",
      "Datetime             2024-06-24T07:07:52.000Z\n",
      "Name: 83, dtype: object\n",
      "84\n",
      "_id                  66789de4c8c016fe4feeef6e\n",
      "EC                                        NaN\n",
      "Humidity                                  0.0\n",
      "Sun                              15632.179688\n",
      "pH                                        0.0\n",
      "Solid_Temperature                           0\n",
      "Temperature                         19.590403\n",
      "CO2                                958.740234\n",
      "Solid_Moisture                            0.0\n",
      "Datetime             2024-06-24T07:12:52.000Z\n",
      "Name: 84, dtype: object\n",
      "85\n",
      "_id                  66789f10c8c016fe4feeef71\n",
      "EC                                        NaN\n",
      "Humidity                                  0.0\n",
      "Sun                              15632.179688\n",
      "pH                                        0.0\n",
      "Solid_Temperature                           0\n",
      "Temperature                         19.807367\n",
      "CO2                                934.570312\n",
      "Solid_Moisture                            0.0\n",
      "Datetime             2024-06-24T07:17:52.000Z\n",
      "Name: 85, dtype: object\n",
      "86\n",
      "_id                  6678a03cc8c016fe4feeef74\n",
      "EC                                        NaN\n",
      "Humidity                                  0.0\n",
      "Sun                              15632.179688\n",
      "pH                                        0.0\n",
      "Solid_Temperature                           0\n",
      "Temperature                         20.367619\n",
      "CO2                                905.566406\n",
      "Solid_Moisture                            0.0\n",
      "Datetime             2024-06-24T07:22:52.000Z\n",
      "Name: 86, dtype: object\n",
      "87\n",
      "_id                  6678a168c8c016fe4feeef77\n",
      "EC                                        NaN\n",
      "Humidity                                  0.0\n",
      "Sun                              15632.179688\n",
      "pH                                        0.0\n",
      "Solid_Temperature                           0\n",
      "Temperature                         20.845362\n",
      "CO2                                886.230469\n",
      "Solid_Moisture                            0.0\n",
      "Datetime             2024-06-24T07:27:52.000Z\n",
      "Name: 87, dtype: object\n",
      "88\n",
      "_id                  6678a294c8c016fe4feeef7a\n",
      "EC                                        NaN\n",
      "Humidity                                  0.0\n",
      "Sun                              15632.179688\n",
      "pH                                        0.0\n",
      "Solid_Temperature                           0\n",
      "Temperature                         20.827084\n",
      "CO2                                858.837891\n",
      "Solid_Moisture                            0.0\n",
      "Datetime             2024-06-24T07:32:52.000Z\n",
      "Name: 88, dtype: object\n",
      "89\n",
      "_id                  6678a3c0c8c016fe4feeef7d\n",
      "EC                                        NaN\n",
      "Humidity                                  0.0\n",
      "Sun                              15632.179688\n",
      "pH                                        0.0\n",
      "Solid_Temperature                           0\n",
      "Temperature                         21.215956\n",
      "CO2                                828.222656\n",
      "Solid_Moisture                            0.0\n",
      "Datetime             2024-06-24T07:37:52.000Z\n",
      "Name: 89, dtype: object\n",
      "90\n",
      "_id                  6678a4ecc8c016fe4feeef80\n",
      "EC                                        NaN\n",
      "Humidity                                  0.0\n",
      "Sun                              15632.179688\n",
      "pH                                        0.0\n",
      "Solid_Temperature                           0\n",
      "Temperature                         21.343664\n",
      "CO2                                812.109375\n",
      "Solid_Moisture                            0.0\n",
      "Datetime             2024-06-24T07:42:52.000Z\n",
      "Name: 90, dtype: object\n",
      "91\n",
      "_id                  6678a618c8c016fe4feeef83\n",
      "EC                                        NaN\n",
      "Humidity                                  0.0\n",
      "Sun                              15632.179688\n",
      "pH                                        0.0\n",
      "Solid_Temperature                           0\n",
      "Temperature                         21.469402\n",
      "CO2                                784.716797\n",
      "Solid_Moisture                            0.0\n",
      "Datetime             2024-06-24T07:47:52.000Z\n",
      "Name: 91, dtype: object\n",
      "92\n",
      "_id                  6678a744c8c016fe4feeef86\n",
      "EC                                        NaN\n",
      "Humidity                                  0.0\n",
      "Sun                              15632.179688\n",
      "pH                                        0.0\n",
      "Solid_Temperature                           0\n",
      "Temperature                         21.633734\n",
      "CO2                                763.769531\n",
      "Solid_Moisture                            0.0\n",
      "Datetime             2024-06-24T07:52:52.000Z\n",
      "Name: 92, dtype: object\n",
      "93\n",
      "_id                  6678a870c8c016fe4feeef89\n",
      "EC                                        NaN\n",
      "Humidity                                  0.0\n",
      "Sun                              15632.179688\n",
      "pH                                        0.0\n",
      "Solid_Temperature                           0\n",
      "Temperature                         21.592299\n",
      "CO2                                746.044922\n",
      "Solid_Moisture                            0.0\n",
      "Datetime             2024-06-24T07:57:52.000Z\n",
      "Name: 93, dtype: object\n",
      "94\n",
      "_id                  6678a99cc8c016fe4feeef8c\n",
      "EC                                        NaN\n",
      "Humidity                                  0.0\n",
      "Sun                              15632.179688\n",
      "pH                                        0.0\n",
      "Solid_Temperature                           0\n",
      "Temperature                         21.891014\n",
      "CO2                                718.652344\n",
      "Solid_Moisture                            0.0\n",
      "Datetime             2024-06-24T08:02:52.000Z\n",
      "Name: 94, dtype: object\n",
      "95\n",
      "_id                  6678aac8c8c016fe4feeef8f\n",
      "EC                                        NaN\n",
      "Humidity                                  0.0\n",
      "Sun                              15632.179688\n",
      "pH                                        0.0\n",
      "Solid_Temperature                           0\n",
      "Temperature                         21.730679\n",
      "CO2                                700.927734\n",
      "Solid_Moisture                            0.0\n",
      "Datetime             2024-06-24T08:07:52.000Z\n",
      "Name: 95, dtype: object\n",
      "96\n",
      "_id                  6678abf4c8c016fe4feeef92\n",
      "EC                                        NaN\n",
      "Humidity                                  0.0\n",
      "Sun                              15632.179688\n",
      "pH                                        0.0\n",
      "Solid_Temperature                           0\n",
      "Temperature                         22.023073\n",
      "CO2                                675.146484\n",
      "Solid_Moisture                            0.0\n",
      "Datetime             2024-06-24T08:12:52.000Z\n",
      "Name: 96, dtype: object\n",
      "97\n",
      "_id                  6678ad20c8c016fe4feeef95\n",
      "EC                                        NaN\n",
      "Humidity                                  0.0\n",
      "Sun                              15632.179688\n",
      "pH                                        0.0\n",
      "Solid_Temperature                           0\n",
      "Temperature                         21.846941\n",
      "CO2                                787.939453\n",
      "Solid_Moisture                            0.0\n",
      "Datetime             2024-06-24T08:17:52.000Z\n",
      "Name: 97, dtype: object\n",
      "98\n",
      "_id                  6678ae4cc8c016fe4feeef98\n",
      "EC                                        NaN\n",
      "Humidity                                  0.0\n",
      "Sun                              15632.179688\n",
      "pH                                        0.0\n",
      "Solid_Temperature                           0\n",
      "Temperature                         22.077702\n",
      "CO2                                871.728516\n",
      "Solid_Moisture                            0.0\n",
      "Datetime             2024-06-24T08:22:52.000Z\n",
      "Name: 98, dtype: object\n",
      "99\n",
      "_id                  6678af78c8c016fe4feeef9b\n",
      "EC                                        NaN\n",
      "Humidity                                  0.0\n",
      "Sun                              15632.179688\n",
      "pH                                        0.0\n",
      "Solid_Temperature                           0\n",
      "Temperature                         21.914377\n",
      "CO2                                854.003906\n",
      "Solid_Moisture                            0.0\n",
      "Datetime             2024-06-24T08:27:52.000Z\n",
      "Name: 99, dtype: object\n"
     ]
    },
    {
     "data": {
      "text/plain": [
       "75.50924411611668"
      ]
     },
     "execution_count": 20,
     "metadata": {},
     "output_type": "execute_result"
    }
   ],
   "execution_count": 20
  },
  {
   "metadata": {
    "ExecuteTime": {
     "end_time": "2024-12-26T09:07:35.820386Z",
     "start_time": "2024-12-26T09:07:35.814309Z"
    }
   },
   "cell_type": "code",
   "source": "np.sum(humidity)/len(humidity)",
   "id": "423ca9a95ed2e800",
   "outputs": [
    {
     "data": {
      "text/plain": [
       "69.10563330768275"
      ]
     },
     "execution_count": 14,
     "metadata": {},
     "output_type": "execute_result"
    }
   ],
   "execution_count": 14
  },
  {
   "metadata": {
    "ExecuteTime": {
     "end_time": "2024-12-26T09:08:08.939294Z",
     "start_time": "2024-12-26T09:08:08.929402Z"
    }
   },
   "cell_type": "code",
   "source": "i",
   "id": "897d977cfcecf7e6",
   "outputs": [
    {
     "data": {
      "text/plain": [
       "283"
      ]
     },
     "execution_count": 15,
     "metadata": {},
     "output_type": "execute_result"
    }
   ],
   "execution_count": 15
  },
  {
   "metadata": {
    "ExecuteTime": {
     "end_time": "2024-12-26T09:08:24.591642Z",
     "start_time": "2024-12-26T09:08:24.581352Z"
    }
   },
   "cell_type": "code",
   "source": "len(humidity)",
   "id": "e2965f9bcb0f2013",
   "outputs": [
    {
     "data": {
      "text/plain": [
       "283"
      ]
     },
     "execution_count": 16,
     "metadata": {},
     "output_type": "execute_result"
    }
   ],
   "execution_count": 16
  },
  {
   "metadata": {
    "ExecuteTime": {
     "end_time": "2024-12-26T09:09:05.274832Z",
     "start_time": "2024-12-26T09:09:05.270618Z"
    }
   },
   "cell_type": "code",
   "source": "len(Humidity)",
   "id": "7b6208e0470298f9",
   "outputs": [
    {
     "data": {
      "text/plain": [
       "284"
      ]
     },
     "execution_count": 17,
     "metadata": {},
     "output_type": "execute_result"
    }
   ],
   "execution_count": 17
  },
  {
   "metadata": {},
   "cell_type": "code",
   "outputs": [],
   "execution_count": null,
   "source": "",
   "id": "6d30c8f4effcc42f"
  }
 ],
 "metadata": {
  "kernelspec": {
   "display_name": "Python 3",
   "language": "python",
   "name": "python3"
  },
  "language_info": {
   "codemirror_mode": {
    "name": "ipython",
    "version": 2
   },
   "file_extension": ".py",
   "mimetype": "text/x-python",
   "name": "python",
   "nbconvert_exporter": "python",
   "pygments_lexer": "ipython2",
   "version": "2.7.6"
  }
 },
 "nbformat": 4,
 "nbformat_minor": 5
}
